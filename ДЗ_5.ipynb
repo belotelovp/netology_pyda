{
 "cells": [
  {
   "cell_type": "markdown",
   "metadata": {},
   "source": [
    "# Домашнее задание\n",
    "1. Переведите содержимое файла purchase_log.txt в словарь purchases вида:\n",
    "```python\n",
    "{'1840e0b9d4': 'Продукты', ...}\n",
    "```\n",
    "\n",
    "2. Для каждого user_id в файле visit_log.csv добавьте третий столбец с категорией покупки (если покупка была).\n",
    "\n",
    "3. Запишите в файл funnel.csv визиты из файла visit_log.csv, в которых были покупки с указанием категории.\n",
    "\n",
    "Учтите условия на данные:\n",
    "- содержимое purchase_log.txt помещается в оперативную память компьютера\n",
    "- содержимое visit_log.csv - нет; используйте только построчную обработку этого файла"
   ]
  },
  {
   "cell_type": "markdown",
   "metadata": {},
   "source": [
    " Решение задания №1"
   ]
  },
  {
   "cell_type": "code",
   "execution_count": 3,
   "metadata": {},
   "outputs": [
    {
     "name": "stdout",
     "output_type": "stream",
     "text": [
      "user_id: category\n",
      "1840e0b9d4: Продукты\n",
      "4e4f90fcfb: Электроника\n",
      "afea8d72fc: Электроника\n",
      "373a6055fe: Бытовая техника\n",
      "9b2ab046f3: Электроника\n",
      "...\n"
     ]
    }
   ],
   "source": [
    "import json\n",
    "purchases = dict()\n",
    "with open('purchase_log.txt') as f:\n",
    "    purchase_log = list(map(json.loads,map(str.strip,f.readlines())))\n",
    "for user, category in (line.values() for line in purchase_log):\n",
    "    purchases[user] = category\n",
    "counter = 0\n",
    "for key, value in purchases.items():\n",
    "    if counter <= 5:\n",
    "        print(f'{key}: {value}')\n",
    "    counter += 1\n",
    "print('...')"
   ]
  },
  {
   "cell_type": "markdown",
   "metadata": {},
   "source": [
    " Решение задания №2 и №3 (Так как csv модуль не поддерживает столбец записи или добавления, то для выполнения задания 2 я прочитаю данные из файла visit_log.csv, добавлю третий столбец с категорией покупки (если покупка была) и запишу в новый файл (funnel.csv, к примеру) что совпадает с заданием 3)"
   ]
  },
  {
   "cell_type": "code",
   "execution_count": 15,
   "metadata": {},
   "outputs": [
    {
     "name": "stdout",
     "output_type": "stream",
     "text": [
      "['user_id,source,category\\n', '1840e0b9d4,other,Продукты\\n', '4e4f90fcfb,context,Электроника\\n', 'afea8d72fc,other,Электроника\\n', '2824221f38,email,Продукты\\n']\n"
     ]
    }
   ],
   "source": [
    "with open('visit_log.csv', 'r') as f_1:\n",
    "    with open('funnel.csv','w') as f_2:\n",
    "        for line in f_1:\n",
    "            purch = line.strip().split(',')[0]\n",
    "            if purchases.get(purch,None) != None:\n",
    "                f_2.write(line.strip() + ',' + purchases[purch] + '\\n')\n",
    "            else:\n",
    "                pass\n",
    "\n",
    "with open('funnel.csv') as f:\n",
    "    print([next(f) for x in range(5)])"
   ]
  },
  {
   "cell_type": "code",
   "execution_count": null,
   "metadata": {},
   "outputs": [],
   "source": []
  }
 ],
 "metadata": {
  "kernelspec": {
   "display_name": "Python 3",
   "language": "python",
   "name": "python3"
  },
  "language_info": {
   "codemirror_mode": {
    "name": "ipython",
    "version": 3
   },
   "file_extension": ".py",
   "mimetype": "text/x-python",
   "name": "python",
   "nbconvert_exporter": "python",
   "pygments_lexer": "ipython3",
   "version": "3.7.3"
  }
 },
 "nbformat": 4,
 "nbformat_minor": 2
}
