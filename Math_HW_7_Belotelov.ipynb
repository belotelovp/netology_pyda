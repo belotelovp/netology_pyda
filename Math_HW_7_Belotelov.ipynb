{
 "cells": [
  {
   "cell_type": "markdown",
   "metadata": {},
   "source": [
    "# Задание 1"
   ]
  },
  {
   "cell_type": "markdown",
   "metadata": {},
   "source": [
    "Монетку подбрасывают 15 раз, найдите вероятность выпадения простого числа (решение на бумажке и на python)."
   ]
  },
  {
   "cell_type": "code",
   "execution_count": 1,
   "metadata": {},
   "outputs": [],
   "source": [
    "import matplotlib.pyplot as plt\n",
    "import numpy as np\n",
    "import random\n",
    "import seaborn\n",
    "from numpy.random import choice\n",
    "from scipy.stats import *\n",
    "%matplotlib inline"
   ]
  },
  {
   "cell_type": "code",
   "execution_count": 2,
   "metadata": {},
   "outputs": [],
   "source": [
    "p=0.5\n",
    "n=15\n",
    "rv = binom(p, n)"
   ]
  },
  {
   "cell_type": "code",
   "execution_count": 4,
   "metadata": {},
   "outputs": [
    {
     "name": "stdout",
     "output_type": "stream",
     "text": [
      "7.5 3.75\n"
     ]
    }
   ],
   "source": [
    "mean, var, _, _ = binom.stats(n, p, moments='mvsk')\n",
    "print(mean, var)"
   ]
  },
  {
   "cell_type": "code",
   "execution_count": 5,
   "metadata": {},
   "outputs": [
    {
     "name": "stdout",
     "output_type": "stream",
     "text": [
      "Вероятность выпадения простого числа: 0.3499755859375009\n"
     ]
    }
   ],
   "source": [
    "x = np.arange(1, 16, 1)\n",
    "sum_ = 0\n",
    "\n",
    "for xx in x:\n",
    "    prb = binom.pmf(xx, n, p)\n",
    "    if(xx > 1):\n",
    "        for i in range(2, xx):\n",
    "            if(xx % i == 0):\n",
    "                prb = 0\n",
    "        sum_ += prb\n",
    "\n",
    "print('Вероятность выпадения простого числа:', sum_)"
   ]
  },
  {
   "cell_type": "markdown",
   "metadata": {},
   "source": [
    "# Задание 2"
   ]
  },
  {
   "cell_type": "markdown",
   "metadata": {},
   "source": [
    "Создайте свою дискретную случайную величину с не менее, чем 10 значениями. Просемплируйте 1000 случайных значений, постройте гистограмму плотности распределения по выборке, посчитайте среднее, дисперсию и медиану."
   ]
  },
  {
   "cell_type": "code",
   "execution_count": 6,
   "metadata": {},
   "outputs": [
    {
     "data": {
      "text/plain": [
       "[Text(0, 0.5, 'Frequency'), Text(0.5, 0, 'Binomial')]"
      ]
     },
     "execution_count": 6,
     "metadata": {},
     "output_type": "execute_result"
    },
    {
     "data": {
      "image/png": "[encoded data removed]",
      "text/plain": [
       "<Figure size 432x288 with 1 Axes>"
      ]
     },
     "metadata": {
      "needs_background": "light"
     },
     "output_type": "display_data"
    }
   ],
   "source": [
    "data = binom.rvs(n=42, p=0.42, loc=0, size=1000)\n",
    "\n",
    "ax=seaborn.distplot(data,\n",
    "                kde=True,\n",
    "                color='pink',\n",
    "                hist_kws={\"linewidth\": 22,'alpha':0.77})\n",
    "ax.set(xlabel='Binomial',ylabel='Frequency')"
   ]
  },
  {
   "cell_type": "code",
   "execution_count": 7,
   "metadata": {},
   "outputs": [
    {
     "name": "stdout",
     "output_type": "stream",
     "text": [
      "Среднее: 17.64\n",
      "Дисперсия: 10.231200000000001\n",
      "Медиана: 18.0\n"
     ]
    }
   ],
   "source": [
    "mean, var = binom.stats(42, 0.42, moments='mv')\n",
    "median = binom.median(42, 0.42, loc=0)\n",
    "\n",
    "print('Среднее:', mean)\n",
    "print('Дисперсия:', var)\n",
    "print('Медиана:', median)"
   ]
  },
  {
   "cell_type": "markdown",
   "metadata": {},
   "source": [
    "# Задание 3¶"
   ]
  },
  {
   "cell_type": "markdown",
   "metadata": {},
   "source": [
    "Задача с 17-го слайда лекции про 3 монеты. Покажите, почему 3 события являются попарно независимыми, но не являются независимыми в совокупности."
   ]
  },
  {
   "cell_type": "raw",
   "metadata": {},
   "source": [
    "Не нашел, что за задача про монеты."
   ]
  },
  {
   "cell_type": "markdown",
   "metadata": {},
   "source": [
    "# Задание 4 (формула полной вероятности)"
   ]
  },
  {
   "cell_type": "markdown",
   "metadata": {},
   "source": [
    "В магазин привезли устройства с 3-х разных предприятий. Соотношение устройств следующее: 20% - продукция первого предприятия, 30% - продукция второго предприятия, 50% - продукция третьего предприятия; далее, 10% продукции первого предприятия высшего сорта, на втором предприятии - 5% и на третьем - 20% продукции высшего сорта. Найти вероятность того, что случайно купленная новая продукция окажется высшего сорта."
   ]
  },
  {
   "cell_type": "markdown",
   "metadata": {},
   "source": [
    "Решение:\n",
    "\n",
    "Обозначим через В событие, заключающееся в том, что будет куплена продукция высшего сорта, а через А1, А2 и А3 - обозначим события, заключающиеся в покупке продукции, принадлежащей соответственно первому, второму и третьему предприятиям."
   ]
  },
  {
   "cell_type": "markdown",
   "metadata": {},
   "source": [
    "Можно применить формулу полной вероятности:"
   ]
  },
  {
   "cell_type": "markdown",
   "metadata": {},
   "source": [
    "Р(А1) = 0,2 \n",
    "\n",
    "Р(А2) = 0,3\n",
    "\n",
    "Р(А3) = 0,5\n",
    "\n",
    "Р(В|A1)=0,1\n",
    "\n",
    "Р(В|A2)=0,05\n",
    "\n",
    "Р(В|A3)=0,2\n"
   ]
  },
  {
   "cell_type": "markdown",
   "metadata": {},
   "source": [
    "Подставляя эти значения в формулу полной вероятности, получим искомую вероятность:"
   ]
  },
  {
   "cell_type": "markdown",
   "metadata": {},
   "source": [
    "P(B)=0,2 * 0,1 + 0,3 * 0,05 + 0,5 * 0,2 = 0,135"
   ]
  },
  {
   "cell_type": "code",
   "execution_count": null,
   "metadata": {},
   "outputs": [],
   "source": []
  }
 ],
 "metadata": {
  "kernelspec": {
   "display_name": "Python 3",
   "language": "python",
   "name": "python3"
  },
  "language_info": {
   "codemirror_mode": {
    "name": "ipython",
    "version": 3
   },
   "file_extension": ".py",
   "mimetype": "text/x-python",
   "name": "python",
   "nbconvert_exporter": "python",
   "pygments_lexer": "ipython3",
   "version": "3.7.3"
  }
 },
 "nbformat": 4,
 "nbformat_minor": 2
}
