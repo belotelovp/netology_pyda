{
 "cells": [
  {
   "cell_type": "markdown",
   "metadata": {},
   "source": [
    "# Математика для data science."
   ]
  },
  {
   "cell_type": "markdown",
   "metadata": {},
   "source": [
    "# Домашнее задание 2."
   ]
  },
  {
   "cell_type": "markdown",
   "metadata": {},
   "source": [
    "Задание на отображение множеств.\n",
    "\n",
    "Задание 1."
   ]
  },
  {
   "cell_type": "markdown",
   "metadata": {},
   "source": [
    "Написать функцию отображения элементов одного множества в другое. Первое множество - художники, второе множество - картины художников. Множество художников - Серов, Левитан, Репин, Васнецов, Шишкин. Множество картин - \"Утро в сосновом бору\", \"Богатыри\", \"Золотая осень\", \"Девочка с персиками\", \"Запорожцы\", \"Буралки на Волге\", \"Март\", \"Алёнушка\"."
   ]
  },
  {
   "cell_type": "code",
   "execution_count": 2,
   "metadata": {},
   "outputs": [
    {
     "data": {
      "text/plain": [
       "{'Серов': ['Девочка с персиками'],\n",
       " 'Левитан': ['Золотая осень', 'Март'],\n",
       " 'Репин': ['Запорожцы', 'Буралки на Волге'],\n",
       " 'Васнецов': ['Богатыри', 'Алёнушка'],\n",
       " 'Шишкин': ['Утро в сосновом бору']}"
      ]
     },
     "execution_count": 2,
     "metadata": {},
     "output_type": "execute_result"
    }
   ],
   "source": [
    "data = {'Серов' : ['Девочка с персиками'], \n",
    "        'Левитан' : ['Золотая осень', 'Март'], \n",
    "        'Репин' : ['Запорожцы', 'Буралки на Волге'], \n",
    "        'Васнецов' : ['Богатыри', 'Алёнушка'], \n",
    "        'Шишкин' : ['Утро в сосновом бору']}\n",
    "data"
   ]
  },
  {
   "cell_type": "markdown",
   "metadata": {},
   "source": [
    "Полиномиальные функции.\n",
    "\n",
    "Задание 2. \n",
    "\n",
    "Найти из следующих функций те, которые являются полиномиальной функцией."
   ]
  },
  {
   "cell_type": "markdown",
   "metadata": {},
   "source": [
    "\n",
    "1) $$f(x)=\\frac{1}{2}x^{6}-1\\frac{5}{6}x+\\frac{1}{3}$$\n",
    "\n",
    "2) $$f(x)=\\frac{3x^{6}-11x+2}{6}$$\n",
    "\n",
    "3) $$f(x)=\\frac{3x^{6}-11x+2}{6x}$$\n",
    "\n",
    "4) $$f(x)=x^{5}-3x^{2}+7x^{-2}$$\n",
    "\n",
    "5) $$f(x)=(5x^{2}-2)^3-\\frac{1}{2}x^{3}$$\n",
    "\n",
    "6) $$f(x)=(1+\\sqrt{x})^{3}-5(1+\\sqrt{x})$$\n",
    "\n",
    "7) $$f(x)=\\pi $$\n"
   ]
  },
  {
   "cell_type": "markdown",
   "metadata": {},
   "source": [
    "Полиноминальные функции: (1), (2) и (5)"
   ]
  },
  {
   "cell_type": "markdown",
   "metadata": {},
   "source": [
    "\n",
    "1) $$f(x)=\\frac{1}{2}x^{6}-1\\frac{5}{6}x+\\frac{1}{3}$$\n",
    "\n",
    "2) $$f(x)=\\frac{3x^{6}-11x+2}{6}$$\n",
    "\n",
    "5) $$f(x)=(5x^{2}-2)^3-\\frac{1}{2}x^{3}$$\n"
   ]
  },
  {
   "cell_type": "markdown",
   "metadata": {},
   "source": [
    "Задание 3. \n",
    "\n",
    "Раскрыть скобки для следующего полинома\n",
    "\n",
    "$$(2x+1)^{2}(x-1)-x(4x^{2}-1)-x(4x^{2}-1)=ax^3+bx^2+cx+d$$найти коэффициенты для a, b, c, d.\n",
    "\n",
    "Для данного задания полезно использовать следующие формулы сокращенного умножения: (рисунки)\n",
    "\n",
    "Чему равна степень полинома?"
   ]
  },
  {
   "cell_type": "markdown",
   "metadata": {},
   "source": [
    "Ответ:  $$-4x^3-x-1$$  это полином 3 степени"
   ]
  },
  {
   "cell_type": "markdown",
   "metadata": {},
   "source": [
    "Нарисовать график для полинома."
   ]
  },
  {
   "cell_type": "code",
   "execution_count": 3,
   "metadata": {},
   "outputs": [
    {
     "data": {
      "image/png": "[encoded data removed]",
      "text/plain": [
       "<Figure size 432x288 with 1 Axes>"
      ]
     },
     "metadata": {
      "needs_background": "light"
     },
     "output_type": "display_data"
    }
   ],
   "source": [
    "import numpy as np\n",
    "import matplotlib.pyplot as plt\n",
    "import pandas as pd\n",
    "%matplotlib inline\n",
    "\n",
    "\n",
    "def func(x):\n",
    "  return -4*x**3 - x - 1\n",
    "  \n",
    "# создаем вектор x\n",
    "x1 = np.linspace(-3.0, 3.0, 100)\n",
    "# на основе вектора x строим значения для вектора y\n",
    "y1 = [func(x1[i]) for i in range(len(x1))]\n",
    "\n",
    "plt.plot(x1, y1)\n",
    "plt.title('График функции')\n",
    "plt.ylabel('y')\n",
    "plt.xlabel('x')\n",
    "\n",
    "plt.show()"
   ]
  },
  {
   "cell_type": "markdown",
   "metadata": {},
   "source": [
    "Задание 3 (2). \n",
    "\n",
    "Для заданных функций найти подходящий график (не все функции имеют график):\n",
    "\n",
    "$\\frac{3}{4}x-1$, \n",
    "$\\frac{3}{4}x+2$, $2-2x$, \n",
    "$2+2x$, \n",
    "$\\frac{1}{4}(x+1)^{2}-2 $, \n",
    "$\\frac{1}{4}(x-1)^2-2$, \n",
    "$(x-1)(x-3)$, \n",
    "$(x+1)(x+3)$, \n",
    "$2-x^2$, \n",
    "$2-\\frac{1}{4}x^2$"
   ]
  },
  {
   "cell_type": "markdown",
   "metadata": {},
   "source": [
    "Ответ:\n",
    "\n",
    "Расположение функций на рисунках\n",
    "\n",
    "$\\frac{3}{4}x-1$, - средний нижний\n",
    "\n",
    "$\\frac{3}{4}x+2$,\n",
    "\n",
    "$2-2x$, - левый верхний\n",
    "\n",
    "$2+2x$,\n",
    "\n",
    "$\\frac{1}{4}(x+1)^{2}-2 $, - левый нижний\n",
    "\n",
    "$\\frac{1}{4}(x-1)^2-2$,\n",
    "\n",
    "$(x-1)(x-3)$, - правый нижний\n",
    "\n",
    "$(x+1)(x+3)$,\n",
    "\n",
    "$2-x^2$, - правый верхний\n",
    "\n",
    "$2-\\frac{1}{4}x^2$ - средний верхний"
   ]
  },
  {
   "cell_type": "markdown",
   "metadata": {},
   "source": [
    "Задание 4. \n",
    "\n",
    "Найти минимальную степень следующего полинома:\n",
    "(рисунок)"
   ]
  },
  {
   "cell_type": "markdown",
   "metadata": {},
   "source": [
    "Ответ: 4 степень"
   ]
  },
  {
   "cell_type": "markdown",
   "metadata": {},
   "source": [
    "# Задания повышенного уровня"
   ]
  },
  {
   "cell_type": "markdown",
   "metadata": {},
   "source": [
    "Почему следующие функции не являются полиномиальными?\n",
    "\n",
    "$$y=5x^{-2}+1$$$$y=3x^{1/2}+2$$$$y=(5x+1)/(3x)$$\n",
    "\n",
    "Ответ: так как содержат дробные или отрицательные степени x"
   ]
  },
  {
   "cell_type": "markdown",
   "metadata": {},
   "source": [
    "Найдите наибольшее и наименьшее значение функции $y = x^3 + 2x^2 + x + 3 $ на отрезке [-4;-1]."
   ]
  },
  {
   "cell_type": "code",
   "execution_count": 6,
   "metadata": {},
   "outputs": [
    {
     "name": "stdout",
     "output_type": "stream",
     "text": [
      "Максимум: 3.0\n",
      "Минимум: -33.0\n"
     ]
    }
   ],
   "source": [
    "x = np.linspace(-4, -1, 100)\n",
    "y = x**3 + 2*x**2 + x + 3\n",
    "\n",
    "print(f'Максимум: {max(y)}')\n",
    "print(f'Минимум: {min(y)}')"
   ]
  },
  {
   "cell_type": "markdown",
   "metadata": {},
   "source": [
    "Пример линейной регрессии - это применение полиномов на практике. В следующем примере дан датасет x, y, сгенерированный рандомно. Мы можем использовать линейную регрессию, чтобы предсказать значение переменной y от x."
   ]
  },
  {
   "cell_type": "code",
   "execution_count": 20,
   "metadata": {},
   "outputs": [
    {
     "data": {
      "image/png": "[encoded data removed]",
      "text/plain": [
       "<Figure size 432x288 with 1 Axes>"
      ]
     },
     "metadata": {
      "needs_background": "light"
     },
     "output_type": "display_data"
    }
   ],
   "source": [
    "from sklearn.linear_model import LinearRegression\n",
    "from sklearn.model_selection import train_test_split\n",
    "\n",
    "np.random.seed(0)\n",
    "x = 2 - 3 * np.random.normal(0, 1, 20)\n",
    "y = x - 2 * (x ** 2) + 0.5 * (x ** 3) + np.random.normal(-3, 3, 20)\n",
    "\n",
    "# transforming the data to include another axis\n",
    "x = x[:, np.newaxis]\n",
    "y = y[:, np.newaxis]\n",
    "\n",
    "model = LinearRegression()\n",
    "# написать линейную регрессию\n",
    "model.fit(x, y)\n",
    "y_pred = model.predict(x)\n",
    "\n",
    "plt.scatter(x, y)\n",
    "plt.plot(x, model.predict(x), color='red', linewidth=2)\n",
    "\n",
    "plt.legend(['линейная регрессия','исходные данные'])\n",
    "plt.show()"
   ]
  },
  {
   "cell_type": "markdown",
   "metadata": {},
   "source": [
    "В данном примере найден полином первой степени. Как можно улучшить данную модель? Написать пример.\n",
    "\n",
    "Ответ: сделать полином 3 степени"
   ]
  },
  {
   "cell_type": "code",
   "execution_count": 23,
   "metadata": {},
   "outputs": [
    {
     "data": {
      "image/png": "[encoded data removed]",
      "text/plain": [
       "<Figure size 432x288 with 1 Axes>"
      ]
     },
     "metadata": {
      "needs_background": "light"
     },
     "output_type": "display_data"
    }
   ],
   "source": [
    "from sklearn.preprocessing import PolynomialFeatures \n",
    "\n",
    "np.random.seed(0)\n",
    "x = 2 - 3 * np.random.normal(0, 1, 20)\n",
    "y = x - 2 * (x ** 2) + 0.5 * (x ** 3) + np.random.normal(-3, 3, 20)\n",
    "\n",
    "# transforming the data to include another axis\n",
    "x = x[:, np.newaxis]\n",
    "y = y[:, np.newaxis]\n",
    "  \n",
    "poly = PolynomialFeatures(degree = 3) \n",
    "X_poly = poly.fit_transform(x) \n",
    "  \n",
    "poly.fit(X_poly, y) \n",
    "lin3 = LinearRegression()\n",
    "model = lin3.fit(X_poly, y) \n",
    "\n",
    "y_pred = model.predict(poly.fit_transform(x))\n",
    "plt.scatter(x, y, marker='o')\n",
    "plt.scatter(x, y_pred, marker='x')\n",
    "plt.title('LSTAT')\n",
    "plt.xlabel('LSTAT')\n",
    "plt.ylabel('MEDV')\n",
    "plt.legend(['исходные данные', 'полином 3-й степени'])\n",
    "plt.show()"
   ]
  },
  {
   "cell_type": "code",
   "execution_count": null,
   "metadata": {},
   "outputs": [],
   "source": []
  }
 ],
 "metadata": {
  "kernelspec": {
   "display_name": "Python 3",
   "language": "python",
   "name": "python3"
  },
  "language_info": {
   "codemirror_mode": {
    "name": "ipython",
    "version": 3
   },
   "file_extension": ".py",
   "mimetype": "text/x-python",
   "name": "python",
   "nbconvert_exporter": "python",
   "pygments_lexer": "ipython3",
   "version": "3.7.3"
  }
 },
 "nbformat": 4,
 "nbformat_minor": 2
}
