{
 "cells": [
  {
   "cell_type": "markdown",
   "metadata": {},
   "source": [
    "# Задание 1"
   ]
  },
  {
   "cell_type": "markdown",
   "metadata": {},
   "source": [
    "Придумайте функции со следующими свойствами (в a) b) c) область определения X любая, какая вам удобна, главное - функция с нужными свойствами):\n",
    "\n",
    "a) бесконечное количество локальных экстремумов"
   ]
  },
  {
   "cell_type": "markdown",
   "metadata": {},
   "source": [
    "$$ f(x)=cos(x)$$"
   ]
  },
  {
   "cell_type": "markdown",
   "metadata": {},
   "source": [
    "b) 2 локальных экстремума"
   ]
  },
  {
   "cell_type": "markdown",
   "metadata": {},
   "source": [
    "$$f(x) = x^3+x^2$$"
   ]
  },
  {
   "cell_type": "markdown",
   "metadata": {},
   "source": [
    "с) 3 локальных экстремума"
   ]
  },
  {
   "cell_type": "markdown",
   "metadata": {},
   "source": [
    "$$f(x) = (x^3+x^2)^2$$"
   ]
  },
  {
   "cell_type": "markdown",
   "metadata": {},
   "source": [
    "d*) область определения функции - 1 точка"
   ]
  },
  {
   "cell_type": "markdown",
   "metadata": {},
   "source": [
    "$$f(x)=\\sqrt-x^2$$"
   ]
  },
  {
   "cell_type": "markdown",
   "metadata": {},
   "source": [
    "# Задание 2:"
   ]
  },
  {
   "cell_type": "markdown",
   "metadata": {},
   "source": [
    "Посчитайте 1-ую и 2-ую производные следующих функций (на бумажке:)):\n",
    "\n",
    "a) $f(x) = sin^2(2x+1)$"
   ]
  },
  {
   "cell_type": "markdown",
   "metadata": {},
   "source": [
    "Ответ: $ f'(x) = (sin^2(2x+1))'=4sin(2x+1)cos(2x+1)$\n",
    "\n",
    "$ f''(x) = (4sin(2x+1)cos(2x+1))'=8cos^2(2x+1)-8sin^2(2x+1)$"
   ]
  },
  {
   "cell_type": "markdown",
   "metadata": {},
   "source": [
    "b) $f(x) = ln(x^3+2sin(x))$ (выражение второй производной упрощать не нужно)"
   ]
  },
  {
   "cell_type": "markdown",
   "metadata": {},
   "source": [
    "Ответ: $ f'(x) = \\frac{3x^2 + 2cos(x)}{x^3+2sin(x)}$"
   ]
  },
  {
   "cell_type": "markdown",
   "metadata": {},
   "source": [
    "$ f''(x) = (\\frac{3x^2 + 2cos(x)}{x^3+2sin(x)})'=\\frac{(3x^2 + 2cos(x))'(x^3+2sin(x))-(3x^2 + 2cos(x))(x^3+2sin(x))'}{(x^3+2sin(x))^2}=\\frac{(6x - 2sin(x))(x^3+2sin(x))-(3x^2 + 2cos(x))^2)}{(x^3+2sin(x))^2}$"
   ]
  },
  {
   "cell_type": "markdown",
   "metadata": {},
   "source": [
    "# Задание 3:"
   ]
  },
  {
   "cell_type": "markdown",
   "metadata": {},
   "source": [
    "Используя numpy, посчитайте значение 3-ей и 4-ой производных функций в точке:\n",
    "\n",
    "$f(x) = x^5+4sin(2x)+cos(3x+3)$ в точке $x=1$"
   ]
  },
  {
   "cell_type": "code",
   "execution_count": 5,
   "metadata": {},
   "outputs": [
    {
     "name": "stdout",
     "output_type": "stream",
     "text": [
      "3-я производная: 1332.267629550188\n",
      "4-я производная: 5329070518.200752\n"
     ]
    }
   ],
   "source": [
    "from scipy.misc import derivative\n",
    "import numpy as np\n",
    "\n",
    "def f(x):\n",
    "    return x**5+4*np.sin(2*x)+np.cos(3*x+3)\n",
    "\n",
    "x=1\n",
    "\n",
    "print('3-я производная:', derivative(f,x,dx=1e-6,n=3,order=5))\n",
    "print('4-я производная:', derivative(f,x,dx=1e-6,n=4,order=5))"
   ]
  },
  {
   "cell_type": "code",
   "execution_count": null,
   "metadata": {},
   "outputs": [],
   "source": []
  }
 ],
 "metadata": {
  "kernelspec": {
   "display_name": "Python 3",
   "language": "python",
   "name": "python3"
  },
  "language_info": {
   "codemirror_mode": {
    "name": "ipython",
    "version": 3
   },
   "file_extension": ".py",
   "mimetype": "text/x-python",
   "name": "python",
   "nbconvert_exporter": "python",
   "pygments_lexer": "ipython3",
   "version": "3.7.3"
  }
 },
 "nbformat": 4,
 "nbformat_minor": 2
}
