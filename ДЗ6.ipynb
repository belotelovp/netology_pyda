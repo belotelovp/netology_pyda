{
 "cells": [
  {
   "cell_type": "markdown",
   "metadata": {},
   "source": [
    "# Домашнее задание к лекции \"Регулярные выражения\"\n",
    "Для зачета необходимо выполнить 4 задания.  \n",
    "Для зачета с отличием – все."
   ]
  },
  {
   "cell_type": "markdown",
   "metadata": {},
   "source": [
    "## Задание 1"
   ]
  },
  {
   "cell_type": "markdown",
   "metadata": {},
   "source": [
    "Напишите функцию, которая принимает на вход строку и проверяет является ли она валидным транспортным номером. Если да, то функция должна возвращать отдельно номер и регион."
   ]
  },
  {
   "cell_type": "code",
   "execution_count": 31,
   "metadata": {},
   "outputs": [
    {
     "name": "stdout",
     "output_type": "stream",
     "text": [
      "Введите номер транспортного средства: A777TC99\n",
      "Введён номер ТС:  777  Регион:  99\n"
     ]
    }
   ],
   "source": [
    "import re\n",
    "\n",
    "def NameplateCheck(nameplate):\n",
    "    nameplatestandard = '[АВЕКМНОРСТУХABEKMHOPCTYX]{1}[0-9]{3}[АВЕКМНОРСТУХABEKMHOPCTYX]{2}[0-9]{,3}'\n",
    "\n",
    "    if re.match(nameplatestandard, nameplate) is None:\n",
    "        print('Введен некорректный номер')\n",
    "    else:\n",
    "        print('Введён номер ТС: ', nameplate[1:4],' Регион: ', nameplate[6:])\n",
    "\n",
    "nameplate = str.upper(input('Введите номер транспортного средства: '))\n",
    "NameplateCheck(nameplate)"
   ]
  },
  {
   "cell_type": "markdown",
   "metadata": {},
   "source": [
    "## Задание 2"
   ]
  },
  {
   "cell_type": "markdown",
   "metadata": {},
   "source": [
    "Напишите функцию, которая проверяет e-mail адрес на валидность по стандарту RFC822: http://www.w3.org/Protocols/rfc822/. Для этого постарайтесь написать (в крайнем случае найти) самый полный шаблон для проверки e-mail адресов через регулярное выражение. Разберитесь и напишите примеры, какие ваш шаблон может не охватить."
   ]
  },
  {
   "cell_type": "code",
   "execution_count": 47,
   "metadata": {},
   "outputs": [
    {
     "name": "stdout",
     "output_type": "stream",
     "text": [
      "Этот имейл адрес belotelov@gmail.com верный!\n",
      "Этот имейл адрес 777@777.com верный!\n",
      "Этот имейл адрес @@mail.ru некорректный!\n",
      "Этот имейл адрес 111.@yahoo.com верный!\n",
      "Этот имейл адрес 777%@gmail.com некорректный!\n",
      "Этот имейл адрес a\\@gmail.com некорректный!\n",
      "Этот имейл адрес jobs/@me.com некорректный!\n",
      "Этот имейл адрес lara@kroft123.com верный!\n",
      "Этот имейл адрес pavel@@ya.com.com.com некорректный!\n",
      "Этот имейл адрес one@mail..ru верный!\n",
      "Этот имейл адрес ivanov@yandex%.com некорректный!\n",
      "Этот имейл адрес petrov@ya/.com некорректный!\n",
      "Этот имейл адрес 111@mail\\.com некорректный!\n"
     ]
    }
   ],
   "source": [
    "def CheckEmail(email):\n",
    "    pattern = r\"(^[a-zA-Z0-9_.+-]+@[a-zA-Z0-9-]+\\.[a-zA-Z0-9-.]+$)\"                        \n",
    "    result = re.match(pattern,email)\n",
    "    if result is None:\n",
    "        return False\n",
    "    else:\n",
    "        return True\n",
    "\n",
    "emails = ([\n",
    "            \"belotelov@gmail.com\", \"777@777.com\", \"@@mail.ru\",\"111.@yahoo.com\",\n",
    "             \"777%@gmail.com\",\"a\\@gmail.com\", \"jobs/@me.com\",\"lara@kroft123.com\", \"pavel@@ya.com.com.com\",\n",
    "            \"one@mail..ru\",\"ivanov@yandex%.com\", \"petrov@ya/.com\",\"111@mail\\\\.com\"\n",
    "        ])\n",
    "\n",
    "for email in emails:\n",
    "    if CheckEmail(email):\n",
    "        print(f'Этот имейл адрес {email} верный!')\n",
    "    else:\n",
    "        print(f'Этот имейл адрес {email} некорректный!')"
   ]
  },
  {
   "cell_type": "markdown",
   "metadata": {},
   "source": [
    "## Задание 3\n",
    "При помощи регулярных выражений напишите функцию, которая будет возвращать акроним переданного в нее текста."
   ]
  },
  {
   "cell_type": "code",
   "execution_count": 37,
   "metadata": {},
   "outputs": [
    {
     "name": "stdout",
     "output_type": "stream",
     "text": [
      "Введите текст для создания акронима: хорошо лежать если богат\n",
      "ХЛЕБ\n"
     ]
    }
   ],
   "source": [
    "def acronym(text):\n",
    "    acr=''.join(w[0].upper() for w in text.split())\n",
    "    print(acr)\n",
    "    \n",
    "text=str.upper(input('Введите текст для создания акронима: '))\n",
    "acronym(text)"
   ]
  },
  {
   "cell_type": "markdown",
   "metadata": {},
   "source": [
    "## Задание 4\n",
    "Напишите функцию, которая будет удалять все последовательные повторы слов из заданной строки."
   ]
  },
  {
   "cell_type": "code",
   "execution_count": 12,
   "metadata": {},
   "outputs": [
    {
     "data": {
      "text/plain": [
       "\"I've got 11 messages today\""
      ]
     },
     "execution_count": 12,
     "metadata": {},
     "output_type": "execute_result"
    }
   ],
   "source": [
    "def povtorovnet(text):\n",
    "    return re.sub(r\"(\\w+ )\\1{2,}\", r\"\\1\", text)\n",
    "    \n",
    "povtorovnet(\"I've got 11 11 11 messages today\") "
   ]
  },
  {
   "cell_type": "markdown",
   "metadata": {},
   "source": [
    "## Задание 5\n",
    "Напишите функцию, которая будет проверять номер сотового телефона на валидность, если он валиден, то переводить его в формат:   \n",
    "+7(xxx)-xxx-xx-xx  \n",
    "Постарайтесь предусмотреть как можно больше адекватных форматов изначального ввода номера.\n",
    "Примеры правильных и неправильных форматов:\n",
    "- +1 555 555-55-55;\n",
    "- 5555555555;\n",
    "- 555555555;\n",
    "- 8(555)555-55-55;\n",
    "- +7 555 555 55 55;\n",
    "- 7(555) 555-55-55;\n",
    "- +7 555+555+55+55."
   ]
  },
  {
   "cell_type": "code",
   "execution_count": 43,
   "metadata": {},
   "outputs": [
    {
     "name": "stdout",
     "output_type": "stream",
     "text": [
      "('+1 555 555-55-55', None)\n",
      "('5555555555', '+7 (555)-555-55-55')\n",
      "('555555555', None)\n",
      "('8(555)555-55-55', '+7 (555)-555-55-55')\n",
      "('+7 555 555 55 55', '+7 (555)-555-55-55')\n",
      "('7(555) 555-55-55', '+7 (555)-555-55-55')\n",
      "('+7 555+555+55+55.', '+7 (555)-555-55-55')\n"
     ]
    }
   ],
   "source": [
    "def CheckMobileNum(number):\n",
    "    incoming = number\n",
    "    number = re.sub(r\"[^\\d]\",\"\",number)\n",
    "    pattern = r\"^(?:(?:7|8)*(\\d{3})(\\d{3})(\\d{2})(\\d{2}))$\"\n",
    "    result = re.findall(pattern,number)    \n",
    "    outcoming = None\n",
    "    if len(result) > 0:\n",
    "        outcoming = \"+7 ({0})-{1}-{2}-{3}\".format(*result[0])\n",
    "    return (incoming, outcoming)\n",
    "\n",
    "phonenum = ([\n",
    "    \"+1 555 555-55-55\",  \n",
    "    \"5555555555\",        \n",
    "    \"555555555\",         \n",
    "    \"8(555)555-55-55\",   \n",
    "    \"+7 555 555 55 55\", \n",
    "    \"7(555) 555-55-55\",  \n",
    "    \"+7 555+555+55+55.\"\n",
    "          ])\n",
    "\n",
    "for number in phonenum:\n",
    "    print(CheckMobileNum(number))"
   ]
  },
  {
   "cell_type": "code",
   "execution_count": null,
   "metadata": {},
   "outputs": [],
   "source": []
  }
 ],
 "metadata": {
  "kernelspec": {
   "display_name": "Python 3",
   "language": "python",
   "name": "python3"
  },
  "language_info": {
   "codemirror_mode": {
    "name": "ipython",
    "version": 3
   },
   "file_extension": ".py",
   "mimetype": "text/x-python",
   "name": "python",
   "nbconvert_exporter": "python",
   "pygments_lexer": "ipython3",
   "version": "3.7.3"
  }
 },
 "nbformat": 4,
 "nbformat_minor": 2
}
