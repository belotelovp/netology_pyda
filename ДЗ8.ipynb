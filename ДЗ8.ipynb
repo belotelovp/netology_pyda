{
 "cells": [
  {
   "cell_type": "markdown",
   "metadata": {},
   "source": [
    "# Задание 1\n",
    "Напишите функцию, которая возвращает название валюты (поле ‘Name’) \n",
    "с максимальным значением курса с помощью сервиса https://www.cbr-xml-daily.ru/daily_json.js"
   ]
  },
  {
   "cell_type": "code",
   "execution_count": 7,
   "metadata": {},
   "outputs": [],
   "source": [
    "import requests"
   ]
  },
  {
   "cell_type": "code",
   "execution_count": 15,
   "metadata": {},
   "outputs": [],
   "source": [
    "class Rate:\n",
    "    def __init__(self, format_='value'):\n",
    "        self.format = format_\n",
    "        self.r = None\n",
    "        self.show_difference = False\n",
    "    \n",
    "    def exchange_rates(self):\n",
    "        if self.r is None: \n",
    "            self.r = self.get_data()\n",
    "        return self.r.json()['Valute']\n",
    "    \n",
    "    def get_data(self):\n",
    "        return requests.get('https://www.cbr-xml-daily.ru/daily_json.js')\n",
    "        \n",
    "    def make_format(self, currency):\n",
    "        response = self.exchange_rates()\n",
    "        if currency in response:\n",
    "            if self.format == 'full':\n",
    "                return response[currency]\n",
    "            \n",
    "            if self.show_difference and currency in [\"EUR\",\"USD\"]:\n",
    "                return response[currency]['Value'] - response[currency]['Previous']\n",
    "            elif self.format == 'value':\n",
    "                return response[currency]['Value']\n",
    "        return 'Error'\n",
    "    \n",
    "    def diff(self, show_difference):\n",
    "        self.show_difference = show_difference\n",
    "        return self\n",
    "        \n",
    "    def eur(self):\n",
    "        return self.make_format('EUR')\n",
    "    \n",
    "    def usd(self):\n",
    "        return self.make_format('USD')\n",
    "    \n",
    "    def brl(self):\n",
    "        return self.make_format('BRL')\n",
    "    \n",
    "    def max_curr_rate(self):\n",
    "        currencyRates = {currency[1][\"Value\"]:currency[1][\"Name\"] for currency in self.exchange_rates().items()}\n",
    "        return currencyRates[max(currencyRates.keys())]"
   ]
  },
  {
   "cell_type": "code",
   "execution_count": 33,
   "metadata": {},
   "outputs": [
    {
     "name": "stdout",
     "output_type": "stream",
     "text": [
      "Сегодня максимальный курс среди валют - у Датских крон .\n"
     ]
    }
   ],
   "source": [
    "r=Rate()\n",
    "print(\"Сегодня максимальный курс среди валют - у\", r.max_curr_rate(),\".\")"
   ]
  },
  {
   "cell_type": "markdown",
   "metadata": {},
   "source": [
    "# Задание 2\n",
    "Добавьте в класс Rate параметр diff (со значениями True или False), \n",
    "который в случае значения True в методах eur и usd будет возвращать не курс валюты, \n",
    "а изменение по сравнению в прошлым значением. Считайте, self.diff будет принимать \n",
    "значение True только при возврате значения курса. При отображении всей информации о валюте он не используется."
   ]
  },
  {
   "cell_type": "code",
   "execution_count": 34,
   "metadata": {},
   "outputs": [
    {
     "name": "stdout",
     "output_type": "stream",
     "text": [
      "Курс Евро: 70.4111\n",
      "Изменение курса Евро: -0.26500000000000057\n",
      "Полные данные по Евро: {'ID': 'R01239', 'NumCode': '978', 'CharCode': 'EUR', 'Nominal': 1, 'Name': 'Евро', 'Value': 70.4111, 'Previous': 70.6761}\n"
     ]
    }
   ],
   "source": [
    "r.format = \"value\"\n",
    "print(\"Курс Евро:\", r.eur())\n",
    "print(\"Изменение курса Евро:\",r.diff(True).eur())\n",
    "\n",
    "r.format = \"full\"\n",
    "print(\"Полные данные по Евро:\",r.make_format(\"EUR\"))"
   ]
  },
  {
   "cell_type": "markdown",
   "metadata": {},
   "source": [
    "# Задание 3\n",
    "Напишите класс Designer, который учитывает количество международных премий. \n",
    "Подсказки в коде занятия в разделе “Домашнее задание задача 3”."
   ]
  },
  {
   "cell_type": "code",
   "execution_count": 36,
   "metadata": {},
   "outputs": [],
   "source": [
    "class Employee:\n",
    "    def __init__(self, name, seniority):\n",
    "        self.name = name\n",
    "        self.seniority = seniority\n",
    "        \n",
    "        self.grade = 1\n",
    "    \n",
    "    def grade_up(self):\n",
    "        \"\"\"Повышает уровень сотрудника\"\"\"\n",
    "        self.grade += 1\n",
    "    \n",
    "    def publish_grade(self):\n",
    "        \"\"\"Публикация результатов аккредитации сотрудников\"\"\"\n",
    "        print(self.name, self.grade)"
   ]
  },
  {
   "cell_type": "code",
   "execution_count": 37,
   "metadata": {},
   "outputs": [],
   "source": [
    "class Developer(Employee):\n",
    "    def __init__(self, name, seniority):\n",
    "        super().__init__(name, seniority)\n",
    "    \n",
    "    def check_if_it_is_time_for_upgrade(self):\n",
    "        # для каждой аккредитации увеличиваем счетчик на 1\n",
    "        # пока считаем, что все разработчики проходят аккредитацию\n",
    "        self.seniority += 1\n",
    "        \n",
    "        # условие повышения сотрудника из презентации\n",
    "        if self.seniority % 5 == 0:\n",
    "            self.grade_up()\n",
    "        \n",
    "        # публикация результатов\n",
    "        return self.publish_grade()"
   ]
  },
  {
   "cell_type": "code",
   "execution_count": 38,
   "metadata": {},
   "outputs": [],
   "source": [
    "class Designer(Employee):\n",
    "    def __init__(self, name, seniority, awards):\n",
    "        super().__init__(name, seniority)\n",
    "        self.awards = awards\n",
    "    \n",
    "    def check_if_it_is_time_for_upgrade(self):\n",
    "        self.seniority += 1\n",
    "        \n",
    "        if (self.seniority + (self.awards*2)) % 7 == 0:\n",
    "            self.grade_up()\n",
    "        \n",
    "        return self.publish_grade()\n",
    "    \n",
    "    def recieved_award(self):\n",
    "        self.awards += 1\n",
    "        print(self.name, ' - получил(-а) международную премию!')"
   ]
  },
  {
   "cell_type": "code",
   "execution_count": 45,
   "metadata": {},
   "outputs": [],
   "source": [
    "helen = Designer('Елена', seniority=0, awards=2)"
   ]
  },
  {
   "cell_type": "code",
   "execution_count": 46,
   "metadata": {},
   "outputs": [
    {
     "name": "stdout",
     "output_type": "stream",
     "text": [
      "\n",
      "# 0\n",
      "Елена 1\n",
      "\n",
      "# 1\n",
      "Елена 1\n",
      "\n",
      "# 2\n",
      "Елена 2\n",
      "\n",
      "# 3\n",
      "Елена 2\n",
      "\n",
      "# 4\n",
      "Елена  - получил(-а) международную премию!\n",
      "Елена 2\n",
      "\n",
      "# 5\n",
      "Елена 2\n",
      "\n",
      "# 6\n",
      "Елена 2\n",
      "\n",
      "# 7\n",
      "Елена 3\n",
      "\n",
      "# 8\n",
      "Елена  - получил(-а) международную премию!\n",
      "Елена 3\n",
      "\n",
      "# 9\n",
      "Елена 3\n",
      "\n",
      "# 10\n",
      "Елена 3\n",
      "\n",
      "# 11\n",
      "Елена 3\n",
      "\n",
      "# 12\n",
      "Елена  - получил(-а) международную премию!\n",
      "Елена 3\n",
      "\n",
      "# 13\n",
      "Елена 3\n",
      "\n",
      "# 14\n",
      "Елена 3\n",
      "\n",
      "# 15\n",
      "Елена 3\n",
      "\n",
      "# 16\n",
      "Елена  - получил(-а) международную премию!\n",
      "Елена 3\n",
      "\n",
      "# 17\n",
      "Елена 3\n",
      "\n",
      "# 18\n",
      "Елена 3\n",
      "\n",
      "# 19\n",
      "Елена 3\n"
     ]
    }
   ],
   "source": [
    "for step in range(20):\n",
    "    print(\"\\n#\", step)\n",
    "    if step > 0:\n",
    "        if step % 4 == 0: helen.recieved_award()\n",
    "    helen.check_if_it_is_time_for_upgrade()"
   ]
  },
  {
   "cell_type": "code",
   "execution_count": null,
   "metadata": {},
   "outputs": [],
   "source": []
  }
 ],
 "metadata": {
  "kernelspec": {
   "display_name": "Python 3",
   "language": "python",
   "name": "python3"
  },
  "language_info": {
   "codemirror_mode": {
    "name": "ipython",
    "version": 3
   },
   "file_extension": ".py",
   "mimetype": "text/x-python",
   "name": "python",
   "nbconvert_exporter": "python",
   "pygments_lexer": "ipython3",
   "version": "3.7.3"
  }
 },
 "nbformat": 4,
 "nbformat_minor": 2
}
