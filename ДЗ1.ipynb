{
 "cells": [
  {
   "cell_type": "markdown",
   "metadata": {},
   "source": [
    "Домашнее задание №1"
   ]
  },
  {
   "cell_type": "markdown",
   "metadata": {},
   "source": [
    "Задание 1"
   ]
  },
  {
   "cell_type": "code",
   "execution_count": 15,
   "metadata": {},
   "outputs": [
    {
     "name": "stdout",
     "output_type": "stream",
     "text": [
      "True\n"
     ]
    }
   ],
   "source": [
    "long_phrase = 'Насколько проще было бы писать программы, если бы не заказчики'\n",
    "short_phrase = '640Кб должно хватить для любых задач. Билл Гейтс (по легенде)'\n",
    "print (long_phrase>short_phrase)"
   ]
  },
  {
   "cell_type": "markdown",
   "metadata": {},
   "source": [
    "Задание 2"
   ]
  },
  {
   "cell_type": "code",
   "execution_count": 18,
   "metadata": {},
   "outputs": [
    {
     "name": "stdout",
     "output_type": "stream",
     "text": [
      "Объем файла равен 4.8828125 Mb\n"
     ]
    }
   ],
   "source": [
    "File_size = 5000\n",
    "print ('Объем файла равен', File_size/1024,'Mb')"
   ]
  },
  {
   "cell_type": "markdown",
   "metadata": {},
   "source": [
    "Задание 3"
   ]
  },
  {
   "cell_type": "code",
   "execution_count": 52,
   "metadata": {},
   "outputs": [
    {
     "name": "stdout",
     "output_type": "stream",
     "text": [
      "Введите месяц: январь\n",
      "Введите число: 32\n",
      "Ошибка ввода\n"
     ]
    }
   ],
   "source": [
    "month = input('Введите месяц: ')\n",
    "date = int(input('Введите число: '))\n",
    "\n",
    "if month == 'январь':\n",
    "    if 1<date<=19: print('Козерог')\n",
    "    elif 19<date<31: print('Водолей')\n",
    "    else: print ('Ошибка ввода')\n",
    "elif month == 'февраль':\n",
    "    if 1<date<=19: print('Водолей')\n",
    "    elif 19<date<=28: print('Рыбы') \n",
    "    else: print ('Ошибка ввода')\n",
    "elif month == 'март': \n",
    "    if 1<date<=20: print('Рыбы')\n",
    "    elif 20<date<=31: print('Овен')\n",
    "    else: print ('Ошибка ввода')\n",
    "elif month == 'апрель':\n",
    "    if 1<date<=20: print('Овен')  \n",
    "    elif 20<date<=30: print('Телец')\n",
    "    else: print ('Ошибка ввода')\n",
    "elif month == 'май':\n",
    "    if 1<date<=20: print('Телец') \n",
    "    elif 20<date<=31: print('Близнецы')\n",
    "    else: print ('Ошибка ввода')\n",
    "elif month == 'июнь':\n",
    "    if 1<date<=20: print('Близнецы')  \n",
    "    elif 20<date<=30: print('Рак')\n",
    "    else: print ('Ошибка ввода')\n",
    "elif month == 'июль':\n",
    "    if 1<date<=22: print('Рак')  \n",
    "    elif 22<date<=31: print('Лев')\n",
    "    else: print ('Ошибка ввода')\n",
    "elif month == 'август':\n",
    "    if 1<date<=22: print('Лев') \n",
    "    elif 22<date<=31: print('Дева')\n",
    "    else: print ('Ошибка ввода')\n",
    "elif month == 'сентябрь':\n",
    "    if 1<date<=22: print('Дева')  \n",
    "    elif 22<date<=30: print('Весы')\n",
    "    else: print ('Ошибка ввода')\n",
    "elif month == 'октябрь':\n",
    "    if 1<date<=22: print('Весы')  \n",
    "    elif 22<date<=31: print('Скорпион')\n",
    "    else: print ('Ошибка ввода')\n",
    "elif month == 'ноябрь':\n",
    "    if 1<date<=22: print('Скорпион')  \n",
    "    elif 22<date<=30: print('Стрелец')\n",
    "    else: print ('Ошибка ввода')\n",
    "elif month == 'декабрь':\n",
    "    if 1<date<=22: print('Стрелец')  \n",
    "    elif 22<date<=31: print('Козерог') \n",
    "    else: print ('Ошибка ввода')\n",
    "else: print ('Ошибка ввода')"
   ]
  },
  {
   "cell_type": "markdown",
   "metadata": {},
   "source": [
    "Задание 4"
   ]
  },
  {
   "cell_type": "code",
   "execution_count": 53,
   "metadata": {},
   "outputs": [
    {
     "name": "stdout",
     "output_type": "stream",
     "text": [
      "Введите заработанную плату в месяц: 300000\n",
      "Введите сколько процентов уходит на ипотеку: 40\n",
      "Введите сколько процентов уходит на жизнь: 50\n",
      "Введите количество премий за год: 2\n",
      "На ипотеку было потрачено:  1440000.0 рублей\n",
      "Было накоплено:  660000.0 рублей\n"
     ]
    }
   ],
   "source": [
    "sal = int(input('Введите заработанную плату в месяц: '))\n",
    "mort = int(input('Введите сколько процентов уходит на ипотеку: '))\n",
    "life = int(input('Введите сколько процентов уходит на жизнь: '))\n",
    "bonus = int(input('Введите количество премий за год: '))\n",
    "print ('На ипотеку было потрачено: ', 12*sal*mort/100,'рублей')\n",
    "print ('Было накоплено: ', (12*(sal-(sal*mort/100)-(sal*life/100)))+(bonus*sal/2),'рублей')"
   ]
  },
  {
   "cell_type": "code",
   "execution_count": null,
   "metadata": {},
   "outputs": [],
   "source": []
  }
 ],
 "metadata": {
  "kernelspec": {
   "display_name": "Python 3",
   "language": "python",
   "name": "python3"
  },
  "language_info": {
   "codemirror_mode": {
    "name": "ipython",
    "version": 3
   },
   "file_extension": ".py",
   "mimetype": "text/x-python",
   "name": "python",
   "nbconvert_exporter": "python",
   "pygments_lexer": "ipython3",
   "version": "3.7.3"
  }
 },
 "nbformat": 4,
 "nbformat_minor": 2
}
