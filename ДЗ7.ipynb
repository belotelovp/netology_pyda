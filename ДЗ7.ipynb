{
 "cells": [
  {
   "cell_type": "markdown",
   "metadata": {},
   "source": [
    "# Задание 1\n",
    "Напишите функцию date_range, которая возвращает список дней между датами start_date и end_date. \n",
    "Даты должны вводиться в формате YYYY-MM-DD."
   ]
  },
  {
   "cell_type": "code",
   "execution_count": 44,
   "metadata": {},
   "outputs": [
    {
     "data": {
      "text/plain": [
       "['2019-10-11',\n",
       " '2019-10-12',\n",
       " '2019-10-13',\n",
       " '2019-10-14',\n",
       " '2019-10-15',\n",
       " '2019-10-16',\n",
       " '2019-10-17',\n",
       " '2019-10-18',\n",
       " '2019-10-19',\n",
       " '2019-10-20',\n",
       " '2019-10-21',\n",
       " '2019-10-22',\n",
       " '2019-10-23',\n",
       " '2019-10-24',\n",
       " '2019-10-25',\n",
       " '2019-10-26',\n",
       " '2019-10-27',\n",
       " '2019-10-28',\n",
       " '2019-10-29',\n",
       " '2019-10-30',\n",
       " '2019-10-31',\n",
       " '2019-11-01',\n",
       " '2019-11-02',\n",
       " '2019-11-03',\n",
       " '2019-11-04',\n",
       " '2019-11-05',\n",
       " '2019-11-06',\n",
       " '2019-11-07',\n",
       " '2019-11-08',\n",
       " '2019-11-09',\n",
       " '2019-11-10',\n",
       " '2019-11-11',\n",
       " '2019-11-12',\n",
       " '2019-11-13',\n",
       " '2019-11-14']"
      ]
     },
     "execution_count": 44,
     "metadata": {},
     "output_type": "execute_result"
    }
   ],
   "source": [
    "from datetime import datetime, timedelta\n",
    "\n",
    "def date_range(start_date_str, end_date_str, return_text = False, date_format = \"%Y-%m-%d\"):\n",
    "    days_interval = timedelta(days = 1)\n",
    "    try:\n",
    "        start_date = datetime.strptime(start_date_str,date_format)\n",
    "        end_date = datetime.strptime(end_date_str,date_format)\n",
    "        \n",
    "        days_between_dates = int((end_date - start_date).days)\n",
    "        \n",
    "        if days_between_dates < 0:\n",
    "            return []\n",
    "        \n",
    "        result_list =  [start_date + (days_interval * i) for i in range(days_between_dates + 1)]\n",
    "        \n",
    "        if return_text:\n",
    "            return [datetime.strftime(result,date_format) for result in result_list] \n",
    "        else:\n",
    "            return result_list\n",
    "    except:\n",
    "        return []\n",
    "    \n",
    "date_range(\"2019-10-11\",\"2019-11-14\",return_text=True)"
   ]
  },
  {
   "cell_type": "markdown",
   "metadata": {},
   "source": [
    "# Задание 2\n",
    "Дополните функцию из первого задания проверкой на корректность дат. \n",
    "В случае неверного формата или если start_date > end_date должен возвращаться пустой список."
   ]
  },
  {
   "cell_type": "code",
   "execution_count": 45,
   "metadata": {},
   "outputs": [
    {
     "data": {
      "text/plain": [
       "[]"
      ]
     },
     "execution_count": 45,
     "metadata": {},
     "output_type": "execute_result"
    }
   ],
   "source": [
    "from datetime import datetime, timedelta\n",
    "\n",
    "def date_range(start_date_str, end_date_str, return_text = False, date_format = \"%Y-%m-%d\"):\n",
    "    days_interval = timedelta(days = 1)\n",
    "    try:\n",
    "        start_date = datetime.strptime(start_date_str,date_format)\n",
    "        end_date = datetime.strptime(end_date_str,date_format)\n",
    "        \n",
    "        days_between_dates = int((end_date - start_date).days)\n",
    "        \n",
    "        if days_between_dates < 0:\n",
    "            return []\n",
    "        \n",
    "        result_list =  [start_date + (days_interval * i) for i in range(days_between_dates + 1)]\n",
    "        \n",
    "        if return_text:\n",
    "            return [datetime.strftime(result,date_format) for result in result_list] \n",
    "        else:\n",
    "            return result_list\n",
    "    except:\n",
    "        return []\n",
    "    \n",
    "date_range(\"2019-12-11\",\"2019-11-14\")"
   ]
  },
  {
   "cell_type": "markdown",
   "metadata": {},
   "source": [
    "# Задание 3\n",
    "Дан поток дат в формате YYYY-MM-DD, в которых встречаются некорректные значения:\n",
    "stream = [‘2018-04-02’, ‘2018-02-29’, ‘2018-19-02’]\n",
    "\n",
    "Напишите функцию, которая проверяет эти даты на корректность. \n",
    "Т. е. для каждой даты возвращает True (дата корректна) или False (некорректная дата)."
   ]
  },
  {
   "cell_type": "code",
   "execution_count": 41,
   "metadata": {},
   "outputs": [
    {
     "name": "stdout",
     "output_type": "stream",
     "text": [
      "2018-04-02 False\n",
      "2018-02-29 False\n",
      "2018-19-02 False\n"
     ]
    }
   ],
   "source": [
    "def DateCheck(date,date_format = \"%Y-%m-%d\"):\n",
    "    dateisok = False\n",
    "    try:\n",
    "        dateisok = bool(datetime.strptime(date,date_format))\n",
    "    except:\n",
    "        pass\n",
    "    return dateisok\n",
    "\n",
    "stream = ['2018-04-02', '2018-02-29', '2018-19-02']\n",
    "\n",
    "for date in stream:\n",
    "    print(date, DateCheck(date))"
   ]
  }
 ],
 "metadata": {
  "kernelspec": {
   "display_name": "Python 3",
   "language": "python",
   "name": "python3"
  },
  "language_info": {
   "codemirror_mode": {
    "name": "ipython",
    "version": 3
   },
   "file_extension": ".py",
   "mimetype": "text/x-python",
   "name": "python",
   "nbconvert_exporter": "python",
   "pygments_lexer": "ipython3",
   "version": "3.7.3"
  }
 },
 "nbformat": 4,
 "nbformat_minor": 2
}
