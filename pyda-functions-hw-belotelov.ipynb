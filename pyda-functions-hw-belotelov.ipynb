{
 "cells": [
  {
   "cell_type": "markdown",
   "metadata": {},
   "source": [
    "# Задание к лекции \"Функции\".\n",
    "Для зачета необходимо правильно выполнить 4 заданий из 6.  \n",
    "Для зачета с отличием – все 6."
   ]
  },
  {
   "cell_type": "markdown",
   "metadata": {},
   "source": [
    "## Задание 1"
   ]
  },
  {
   "cell_type": "markdown",
   "metadata": {},
   "source": [
    "Дан список вида:"
   ]
  },
  {
   "cell_type": "code",
   "execution_count": 3,
   "metadata": {},
   "outputs": [],
   "source": [
    "data = [\n",
    "    [13, 25, 23, 34],\n",
    "    [45, 32, 44, 47],\n",
    "    [12, 33, 23, 95],\n",
    "    [13, 53, 34, 35]\n",
    "]"
   ]
  },
  {
   "cell_type": "markdown",
   "metadata": {},
   "source": [
    "Напишите функцию, которая возвращает сумму элементов на диагонали. Т. е. 13+32+23+35.  \n",
    "Список может быть любой длины, но всегда является \"квадратным\" (количество элементов во вложенных списках равно их количеству)."
   ]
  },
  {
   "cell_type": "code",
   "execution_count": 4,
   "metadata": {},
   "outputs": [
    {
     "name": "stdout",
     "output_type": "stream",
     "text": [
      "103\n"
     ]
    }
   ],
   "source": [
    "def diag_data_sum(data):\n",
    "    count = 0\n",
    "    for i in range(len(data)):\n",
    "        count+=data[i][i]\n",
    "    return count\n",
    "print(diag_data_sum(data))"
   ]
  },
  {
   "cell_type": "markdown",
   "metadata": {},
   "source": [
    "## Задание 2"
   ]
  },
  {
   "cell_type": "markdown",
   "metadata": {},
   "source": [
    "Напишите функцию, возвращающую сумму первых n чисел Фибоначчи (для этого вам может понадобится ознакомиться с рекурсией)."
   ]
  },
  {
   "cell_type": "code",
   "execution_count": 11,
   "metadata": {},
   "outputs": [
    {
     "data": {
      "text/plain": [
       "12"
      ]
     },
     "execution_count": 11,
     "metadata": {},
     "output_type": "execute_result"
    }
   ],
   "source": [
    "def fib(n):\n",
    "    if n >= 2:\n",
    "        return fib(n-1) + fib(n-2)\n",
    "    if n == 1:\n",
    "        return 1\n",
    "    if n == 0:\n",
    "        return 0\n",
    "\n",
    "def sum_fib(n):\n",
    "    a=n\n",
    "    summ = 0\n",
    "    while(a!=0):\n",
    "        summ+=fib(a)\n",
    "        a-=1\n",
    "    return(summ)\n",
    "\n",
    "sum_fib(5)"
   ]
  },
  {
   "cell_type": "markdown",
   "metadata": {},
   "source": [
    "## Задание 3"
   ]
  },
  {
   "cell_type": "code",
   "execution_count": 30,
   "metadata": {},
   "outputs": [],
   "source": [
    "cook_book = {\n",
    "  'салат': [\n",
    "     {'ingridient_name': 'сыр', 'quantity': 50, 'measure': 'гр'},\n",
    "     {'ingridient_name': 'томаты', 'quantity': 20, 'measure': 'гр'},\n",
    "     {'ingridient_name': 'огурцы', 'quantity': 20, 'measure': 'гр'},\n",
    "     {'ingridient_name': 'маслины', 'quantity': 10, 'measure': 'гр'},\n",
    "     {'ingridient_name': 'оливковое масло', 'quantity': 20, 'measure': 'мл'},\n",
    "     {'ingridient_name': 'салат', 'quantity': 10, 'measure': 'гр'},\n",
    "     {'ingridient_name': 'перец', 'quantity': 20, 'measure': 'гр'}\n",
    "    ],\n",
    "  'пицца': [\n",
    "     {'ingridient_name': 'сыр', 'quantity': 20, 'measure': 'гр'},\n",
    "     {'ingridient_name': 'колбаса', 'quantity': 30, 'measure': 'гр'},\n",
    "     {'ingridient_name': 'бекон', 'quantity': 30, 'measure': 'гр'},\n",
    "     {'ingridient_name': 'оливки', 'quantity': 10, 'measure': 'гр'},\n",
    "     {'ingridient_name': 'томаты', 'quantity': 20, 'measure': 'гр'},\n",
    "     {'ingridient_name': 'тесто', 'quantity': 100, 'measure': 'гр'},   \n",
    "    ],\n",
    "  'лимонад': [\n",
    "     {'ingridient_name': 'лимон', 'quantity': 1, 'measure': 'шт'},\n",
    "     {'ingridient_name': 'вода', 'quantity': 200, 'measure': 'мл'},\n",
    "     {'ingridient_name': 'сахар', 'quantity': 10, 'measure': 'гр'},\n",
    "     {'ingridient_name': 'лайм', 'quantity': 20, 'measure': 'гр'},    \n",
    "    ]\n",
    "}"
   ]
  },
  {
   "cell_type": "markdown",
   "metadata": {},
   "source": [
    "Напишите программу (она может состоять из нескольких функций), которая будет запрашивать у пользователя количество гостей и список блюд, которые будут подаваться каждому гостю. В результате программа должна выдавать список покупок, состоящий из ингредиентов, которые нужно купить в магазине (если ингредиенты повторяются, то их нужно записать одной строкой, а не отдельно).\n",
    "\n",
    "Пример:\n",
    "\n",
    "вызов\\_главной\\_функций()\n",
    "\n",
    "Введите количество гостей: 3  \n",
    "Введите блюда через пробел: пицца пицца лимонад\n",
    "\n",
    "Список покупок:  \n",
    "сыр 120 гр  \n",
    "колбаса 180 гр  \n",
    "бекон 180 гр  \n",
    "оливки 60 гр  \n",
    "томаты 120 гр  \n",
    "тесто 600 гр  \n",
    "лимон 3 шт  \n",
    "вода 600 мл  \n",
    "сахар 30 гр  \n",
    "лайм 60 гр  "
   ]
  },
  {
   "cell_type": "markdown",
   "metadata": {},
   "source": [
    "## Задание 4"
   ]
  },
  {
   "cell_type": "markdown",
   "metadata": {},
   "source": [
    "Вы работаете секретарем и вам постоянно приходят различные документы. Вы должны быть очень внимательны, чтобы не потерять ни один документ. Каталог документов хранится в следующем виде:"
   ]
  },
  {
   "cell_type": "code",
   "execution_count": 3,
   "metadata": {},
   "outputs": [],
   "source": [
    "documents = [\n",
    "    {'type': 'passport', 'number': '2207 876234', 'name': 'Василий Гупкин'},\n",
    "    {'type': 'invoice', 'number': '11-2', 'name': 'Геннадий Покемонов'},\n",
    "    {'type': 'insurance', 'number': '10006', 'name': 'Аристарх Павлов'}\n",
    "]"
   ]
  },
  {
   "cell_type": "markdown",
   "metadata": {},
   "source": [
    "Перечень полок, на которых находятся документы хранится в следующем виде:"
   ]
  },
  {
   "cell_type": "code",
   "execution_count": 4,
   "metadata": {},
   "outputs": [],
   "source": [
    "directories = {\n",
    "    '1': ['2207 876234', '11-2', '5455 028765'],\n",
    "    '2': ['10006', '5400 028765', '5455 002299'],\n",
    "    '3': []\n",
    "}"
   ]
  },
  {
   "cell_type": "markdown",
   "metadata": {},
   "source": [
    "Необходимо реализовать пользовательские команды (внимание! это не название функций, которые должны быть выразительными, а команды, которые вводит пользователь, чтобы получить необходимый результат):\n",
    "  \n",
    "- p – people – команда, которая спросит номер документа и выведет имя человека, которому он принадлежит;  \n",
    "- s – shelf – команда, которая спросит номер документа и выведет номер полки, на которой он находится  \n",
    "Правильно обработайте ситуацию, когда пользователь будет вводить несуществующий документ."
   ]
  },
  {
   "cell_type": "markdown",
   "metadata": {},
   "source": [
    "p – people"
   ]
  },
  {
   "cell_type": "code",
   "execution_count": 5,
   "metadata": {},
   "outputs": [
    {
     "name": "stdout",
     "output_type": "stream",
     "text": [
      "Введите номер документа: 11-2\n",
      "\n",
      "Имя: Геннадий Покемонов\n"
     ]
    }
   ],
   "source": [
    "def name_by_number():\n",
    "    doc_number=input('Введите номер документа: ')\n",
    "    for num in documents:\n",
    "        if num['number'] == doc_number:\n",
    "            print('')\n",
    "            print('Имя:',num['name'])\n",
    "            break\n",
    "    else:\n",
    "        print(' Такого номера документа нет в базе.')\n",
    "        \n",
    "name_by_number()"
   ]
  },
  {
   "cell_type": "markdown",
   "metadata": {},
   "source": [
    "s – shelf"
   ]
  },
  {
   "cell_type": "code",
   "execution_count": 6,
   "metadata": {},
   "outputs": [
    {
     "name": "stdout",
     "output_type": "stream",
     "text": [
      "Введите номер документа 22\n",
      " Такого номера документа нет в базе.\n"
     ]
    }
   ],
   "source": [
    "def shelf_by_number():\n",
    "    doc_number = input('Введите номер документа ')\n",
    "    for num in documents:\n",
    "        if num['number'] == doc_number:\n",
    "            for num_directories_key, num_directories_value in directories.items():\n",
    "                if doc_number in num_directories_value:\n",
    "                    print('')\n",
    "                    print('Полка номер:',num_directories_key)\n",
    "    else:\n",
    "        print(' Такого номера документа нет в базе.') \n",
    "        \n",
    "shelf_by_number()"
   ]
  },
  {
   "cell_type": "markdown",
   "metadata": {},
   "source": [
    "## Задание 5"
   ]
  },
  {
   "cell_type": "markdown",
   "metadata": {},
   "source": [
    "К условию из задания 5 реализуйте следующие команды:\n",
    "  \n",
    "- l – list – команда, которая выведет список всех документов в формате   \n",
    "**passport \"2207 876234\" \"Василий Гупкин\"**  \n",
    "- as – add shelf – команда, которая спросит номер новой полки и добавит ее в перечень"
   ]
  },
  {
   "cell_type": "markdown",
   "metadata": {},
   "source": [
    "l - list"
   ]
  },
  {
   "cell_type": "code",
   "execution_count": 7,
   "metadata": {},
   "outputs": [
    {
     "name": "stdout",
     "output_type": "stream",
     "text": [
      "Список документов:\n",
      "\"passport\" \"2207 876234\" \"Василий Гупкин\"\n",
      "\"invoice\" \"11-2\" \"Геннадий Покемонов\"\n",
      "\"insurance\" \"10006\" \"Аристарх Павлов\"\n"
     ]
    }
   ],
   "source": [
    "def documents_list():\n",
    "    print('Список документов:')\n",
    "    for enum in documents:\n",
    "        print(('\"{}\" \"{}\" \"{}\"').format(enum['type'], enum['number'], enum['name']))\n",
    "\n",
    "documents_list()"
   ]
  },
  {
   "cell_type": "markdown",
   "metadata": {},
   "source": [
    "as – add shelf "
   ]
  },
  {
   "cell_type": "code",
   "execution_count": 8,
   "metadata": {},
   "outputs": [
    {
     "name": "stdout",
     "output_type": "stream",
     "text": [
      "Введите новый номер полки: 2\n",
      "Такая полка уже есть! \n"
     ]
    }
   ],
   "source": [
    "def add_shelf():\n",
    "    new_shelf = input('Введите новый номер полки: ')\n",
    "    for num_directories_key in directories.keys():\n",
    "        if new_shelf == num_directories_key:\n",
    "            print('Такая полка уже есть! ')\n",
    "            return\n",
    "    directories[new_shelf]=[]\n",
    "\n",
    "add_shelf()"
   ]
  },
  {
   "cell_type": "markdown",
   "metadata": {},
   "source": [
    "Общая программа для запуска функций"
   ]
  },
  {
   "cell_type": "code",
   "execution_count": 18,
   "metadata": {},
   "outputs": [
    {
     "name": "stdout",
     "output_type": "stream",
     "text": [
      "Программа-секретарь! \n",
      "Команды:\n",
      "\n",
      "p - people – Показать имя человека по номеру документа, \n",
      "s – shelf – Показать номер полки по номеру документа,\n",
      "l – list – Показать список всех документов, \n",
      "as – add shelf – Добавить новую полку.\n",
      "\n",
      "Введите команду: d\n",
      "\n",
      " Нет такой команды. Попробуйте снова! \n",
      "\n"
     ]
    }
   ],
   "source": [
    "functions = {\n",
    "    'p': name_by_number,\n",
    "    's': shelf_by_number,\n",
    "    'l': documents_list,\n",
    "    'as':add_shelf\n",
    "    }\n",
    "\n",
    "def check_user_input():\n",
    "    print(\n",
    "        \"\\np - people – Показать имя человека по номеру документа, \"\n",
    "        \"\\ns – shelf – Показать номер полки по номеру документа,\"     \n",
    "        \"\\nl – list – Показать список всех документов, \"\n",
    "        \"\\nas – add shelf – Добавить новую полку.\"\n",
    "       )\n",
    "    user_input = input('\\nВведите команду: ')\n",
    "    if user_input.lower().strip() in {'p','s','l','as'}:\n",
    "        return user_input.lower().strip()\n",
    "\n",
    "def main():\n",
    "   while True:\n",
    "     print('Программа-секретарь! ')\n",
    "     print('Команды:')\n",
    "     inp=check_user_input()\n",
    "     if inp:\n",
    "         print('')\n",
    "         functions[inp]()\n",
    "         break\n",
    "     else:\n",
    "        print('\\n Нет такой команды. Попробуйте снова! \\n')\n",
    "        break\n",
    "main()"
   ]
  },
  {
   "cell_type": "markdown",
   "metadata": {},
   "source": [
    "## Задание 6"
   ]
  },
  {
   "cell_type": "markdown",
   "metadata": {},
   "source": [
    "К условию из задания 5 реализуйте следующие команды:  \n",
    "  \n",
    "- d – delete – команда, которая спросит номер документа и удалит его из каталога и из перечня полок. Предусмотрите сценарий, когда пользователь вводит несуществующий документ;  \n",
    "- m – move – команда, которая спросит номер документа и целевую полку и переместит его с текущей полки на целевую. Корректно обработайте кейсы, когда пользователь пытается переместить несуществующий документ или переместить документ на несуществующую полку;  \n",
    "- a – add – команда, которая добавит новый документ в каталог и в перечень полок, спросив его номер, тип, имя владельца и номер полки, на котором он будет храниться."
   ]
  },
  {
   "cell_type": "code",
   "execution_count": null,
   "metadata": {},
   "outputs": [],
   "source": []
  }
 ],
 "metadata": {
  "kernelspec": {
   "display_name": "Python 3",
   "language": "python",
   "name": "python3"
  },
  "language_info": {
   "codemirror_mode": {
    "name": "ipython",
    "version": 3
   },
   "file_extension": ".py",
   "mimetype": "text/x-python",
   "name": "python",
   "nbconvert_exporter": "python",
   "pygments_lexer": "ipython3",
   "version": "3.7.3"
  }
 },
 "nbformat": 4,
 "nbformat_minor": 2
}
