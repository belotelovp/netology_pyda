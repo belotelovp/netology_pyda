{
 "cells": [
  {
   "cell_type": "code",
   "execution_count": 2,
   "metadata": {},
   "outputs": [],
   "source": [
    "import numpy as np\n",
    "import pandas as pd\n",
    "\n",
    "from sklearn.linear_model import LinearRegression"
   ]
  },
  {
   "cell_type": "markdown",
   "metadata": {},
   "source": [
    "Создадим data set, состоящий из данных о сотрудниках компании: возраст, количество проектов, часов в проекте, больничных дней и окладов"
   ]
  },
  {
   "cell_type": "code",
   "execution_count": 8,
   "metadata": {},
   "outputs": [
    {
     "data": {
      "text/html": [
       "<div>\n",
       "<style scoped>\n",
       "    .dataframe tbody tr th:only-of-type {\n",
       "        vertical-align: middle;\n",
       "    }\n",
       "\n",
       "    .dataframe tbody tr th {\n",
       "        vertical-align: top;\n",
       "    }\n",
       "\n",
       "    .dataframe thead th {\n",
       "        text-align: right;\n",
       "    }\n",
       "</style>\n",
       "<table border=\"1\" class=\"dataframe\">\n",
       "  <thead>\n",
       "    <tr style=\"text-align: right;\">\n",
       "      <th></th>\n",
       "      <th>employee_age</th>\n",
       "      <th>monthly_projects</th>\n",
       "      <th>project_hours</th>\n",
       "      <th>sickleave_days</th>\n",
       "      <th>salary</th>\n",
       "    </tr>\n",
       "  </thead>\n",
       "  <tbody>\n",
       "    <tr>\n",
       "      <th>0</th>\n",
       "      <td>54</td>\n",
       "      <td>5</td>\n",
       "      <td>15</td>\n",
       "      <td>7</td>\n",
       "      <td>235500</td>\n",
       "    </tr>\n",
       "    <tr>\n",
       "      <th>1</th>\n",
       "      <td>50</td>\n",
       "      <td>5</td>\n",
       "      <td>32</td>\n",
       "      <td>4</td>\n",
       "      <td>486000</td>\n",
       "    </tr>\n",
       "    <tr>\n",
       "      <th>2</th>\n",
       "      <td>29</td>\n",
       "      <td>5</td>\n",
       "      <td>36</td>\n",
       "      <td>1</td>\n",
       "      <td>541500</td>\n",
       "    </tr>\n",
       "    <tr>\n",
       "      <th>3</th>\n",
       "      <td>33</td>\n",
       "      <td>4</td>\n",
       "      <td>15</td>\n",
       "      <td>3</td>\n",
       "      <td>184500</td>\n",
       "    </tr>\n",
       "    <tr>\n",
       "      <th>4</th>\n",
       "      <td>57</td>\n",
       "      <td>5</td>\n",
       "      <td>12</td>\n",
       "      <td>5</td>\n",
       "      <td>187500</td>\n",
       "    </tr>\n",
       "  </tbody>\n",
       "</table>\n",
       "</div>"
      ],
      "text/plain": [
       "   employee_age  monthly_projects  project_hours  sickleave_days  salary\n",
       "0            54                 5             15               7  235500\n",
       "1            50                 5             32               4  486000\n",
       "2            29                 5             36               1  541500\n",
       "3            33                 4             15               3  184500\n",
       "4            57                 5             12               5  187500"
      ]
     },
     "execution_count": 8,
     "metadata": {},
     "output_type": "execute_result"
    }
   ],
   "source": [
    "# Создаём сэмпл\n",
    "n_samples = 500\n",
    "\n",
    "# возраст сотрудников принимаем от 18 до 60\n",
    "employee_age = np.random.choice(43, n_samples) + 18\n",
    "# количество проектов, которые сотрудник выполняет в месяц\n",
    "monthly_projects = np.random.choice(5, n_samples) + 1\n",
    "# количество часов, которые сотрудник в среднем тратит на каждый проект\n",
    "project_hours = np.random.choice(30, n_samples) + 10\n",
    "# количесто больничных в меясц\n",
    "sickleave_days = np.random.choice(7, n_samples) + 1\n",
    "# зарплата сотрудников\n",
    "salary = monthly_projects * project_hours * 3000 + sickleave_days * 1500\n",
    "\n",
    "data = pd.DataFrame({'employee_age': employee_age, 'monthly_projects': monthly_projects, \n",
    "                     'project_hours': project_hours, 'sickleave_days': sickleave_days,\n",
    "                     'salary': salary})\n",
    "data.head(5)"
   ]
  },
  {
   "cell_type": "markdown",
   "metadata": {},
   "source": [
    "Цель упражнения - определить, от каких показателей может зависеть зарплата сотрудников, используя модель линейной регрессии.\n",
    "Сперва в модели рассматриваем все параметры."
   ]
  },
  {
   "cell_type": "code",
   "execution_count": 10,
   "metadata": {},
   "outputs": [
    {
     "name": "stdout",
     "output_type": "stream",
     "text": [
      "Weights: [   86.6441392  70437.59581311  8884.47963591  1404.30620398]\n",
      "Bias: -211556.07179487753\n",
      "Error: 27384.572459485727\n"
     ]
    }
   ],
   "source": [
    "from sklearn.metrics import mean_absolute_error\n",
    "\n",
    "X = data[['employee_age', 'monthly_projects', 'project_hours', 'sickleave_days']]\n",
    "y = data['salary']\n",
    "reg = LinearRegression().fit(X, y)\n",
    "print(f'Weights: {reg.coef_}')\n",
    "print(f'Bias: {reg.intercept_}')\n",
    "\n",
    "pred_values = reg.predict(data[['employee_age', 'monthly_projects', 'project_hours', 'sickleave_days']])\n",
    "print(f'Error: {mean_absolute_error(pred_values, y)}')"
   ]
  },
  {
   "cell_type": "markdown",
   "metadata": {},
   "source": [
    "Получилось, что ошибка равна 27384.5. Ошибка большая, поэтому попробуем улучшить модель.\n",
    "\n",
    "Предположим, что больничные никак не влияют на зарплату сотрудника, ведь он просто не работает в эти дни."
   ]
  },
  {
   "cell_type": "code",
   "execution_count": 11,
   "metadata": {},
   "outputs": [
    {
     "name": "stdout",
     "output_type": "stream",
     "text": [
      "Weights: [   82.09399197 70426.50334953  8858.26884802]\n",
      "Bias: -205231.16569948196\n",
      "Error: 27795.42066866779\n"
     ]
    }
   ],
   "source": [
    "X = data[['employee_age', 'monthly_projects', 'project_hours']]\n",
    "y = data['salary']\n",
    "reg = LinearRegression().fit(X, y)\n",
    "print(f'Weights: {reg.coef_}')\n",
    "print(f'Bias: {reg.intercept_}')\n",
    "\n",
    "pred_values = reg.predict(data[['employee_age', 'monthly_projects', 'project_hours']])\n",
    "print(f'Error: {mean_absolute_error(pred_values, y)}')"
   ]
  },
  {
   "cell_type": "markdown",
   "metadata": {},
   "source": [
    "Ошибка немного увеличилась, значит, больничные все же немного влияют на зарплату."
   ]
  },
  {
   "cell_type": "markdown",
   "metadata": {},
   "source": [
    "Предположим, что больше всего на зарплату сотрудников влияет общее время работы сотрудников за месяц (новый признак), для этого умножим среднее количество часов потраченных на проект, на количество проектов, сделанных за месяц."
   ]
  },
  {
   "cell_type": "code",
   "execution_count": 13,
   "metadata": {},
   "outputs": [
    {
     "data": {
      "text/html": [
       "<div>\n",
       "<style scoped>\n",
       "    .dataframe tbody tr th:only-of-type {\n",
       "        vertical-align: middle;\n",
       "    }\n",
       "\n",
       "    .dataframe tbody tr th {\n",
       "        vertical-align: top;\n",
       "    }\n",
       "\n",
       "    .dataframe thead th {\n",
       "        text-align: right;\n",
       "    }\n",
       "</style>\n",
       "<table border=\"1\" class=\"dataframe\">\n",
       "  <thead>\n",
       "    <tr style=\"text-align: right;\">\n",
       "      <th></th>\n",
       "      <th>employee_age</th>\n",
       "      <th>monthly_projects</th>\n",
       "      <th>project_hours</th>\n",
       "      <th>sickleave_days</th>\n",
       "      <th>salary</th>\n",
       "      <th>hours_intotal</th>\n",
       "      <th>hours_sum</th>\n",
       "    </tr>\n",
       "  </thead>\n",
       "  <tbody>\n",
       "    <tr>\n",
       "      <th>0</th>\n",
       "      <td>54</td>\n",
       "      <td>5</td>\n",
       "      <td>15</td>\n",
       "      <td>7</td>\n",
       "      <td>235500</td>\n",
       "      <td>75</td>\n",
       "      <td>75</td>\n",
       "    </tr>\n",
       "    <tr>\n",
       "      <th>1</th>\n",
       "      <td>50</td>\n",
       "      <td>5</td>\n",
       "      <td>32</td>\n",
       "      <td>4</td>\n",
       "      <td>486000</td>\n",
       "      <td>160</td>\n",
       "      <td>160</td>\n",
       "    </tr>\n",
       "    <tr>\n",
       "      <th>2</th>\n",
       "      <td>29</td>\n",
       "      <td>5</td>\n",
       "      <td>36</td>\n",
       "      <td>1</td>\n",
       "      <td>541500</td>\n",
       "      <td>180</td>\n",
       "      <td>180</td>\n",
       "    </tr>\n",
       "    <tr>\n",
       "      <th>3</th>\n",
       "      <td>33</td>\n",
       "      <td>4</td>\n",
       "      <td>15</td>\n",
       "      <td>3</td>\n",
       "      <td>184500</td>\n",
       "      <td>60</td>\n",
       "      <td>60</td>\n",
       "    </tr>\n",
       "    <tr>\n",
       "      <th>4</th>\n",
       "      <td>57</td>\n",
       "      <td>5</td>\n",
       "      <td>12</td>\n",
       "      <td>5</td>\n",
       "      <td>187500</td>\n",
       "      <td>60</td>\n",
       "      <td>60</td>\n",
       "    </tr>\n",
       "  </tbody>\n",
       "</table>\n",
       "</div>"
      ],
      "text/plain": [
       "   employee_age  monthly_projects  project_hours  sickleave_days  salary  \\\n",
       "0            54                 5             15               7  235500   \n",
       "1            50                 5             32               4  486000   \n",
       "2            29                 5             36               1  541500   \n",
       "3            33                 4             15               3  184500   \n",
       "4            57                 5             12               5  187500   \n",
       "\n",
       "   hours_intotal  hours_sum  \n",
       "0             75         75  \n",
       "1            160        160  \n",
       "2            180        180  \n",
       "3             60         60  \n",
       "4             60         60  "
      ]
     },
     "execution_count": 13,
     "metadata": {},
     "output_type": "execute_result"
    }
   ],
   "source": [
    "# создаем новый признак\n",
    "data['hours_sum'] = data['monthly_projects'] * data['project_hours']\n",
    "data.head()"
   ]
  },
  {
   "cell_type": "code",
   "execution_count": 14,
   "metadata": {},
   "outputs": [
    {
     "name": "stdout",
     "output_type": "stream",
     "text": [
      "Weights: [2996.4899505]\n",
      "Bias: 6110.3967654409935\n",
      "Error: 2628.0064774566235\n"
     ]
    }
   ],
   "source": [
    "X = data[['hours_sum']]\n",
    "y = data['salary']\n",
    "reg = LinearRegression().fit(X, y)\n",
    "print(f'Weights: {reg.coef_}')\n",
    "print(f'Bias: {reg.intercept_}')\n",
    "\n",
    "pred_values = reg.predict(data[['hours_sum']])\n",
    "print(f'Error: {mean_absolute_error(pred_values, y)}')"
   ]
  },
  {
   "cell_type": "markdown",
   "metadata": {},
   "source": [
    "Ошибка на порядок уменьшилась, значит, предположение было правильным и зарплата в основном зависит от общего количества рабочих часов. Однако ошибка всё еще довольно большая - 2628. Учтем первое предположение, что зарплата зависит в том числе и от количества больничных и добавим данный параметр в модель линейной регрессии."
   ]
  },
  {
   "cell_type": "code",
   "execution_count": 16,
   "metadata": {},
   "outputs": [
    {
     "name": "stdout",
     "output_type": "stream",
     "text": [
      "Weights: [3000. 1500.]\n",
      "Bias: -1.1641532182693481e-10\n",
      "Error: 6.117625162005424e-11\n"
     ]
    }
   ],
   "source": [
    "X = data[['hours_sum', 'sickleave_days']]\n",
    "y = data['salary']\n",
    "reg = LinearRegression().fit(X, y)\n",
    "print(f'Weights: {reg.coef_}')\n",
    "print(f'Bias: {reg.intercept_}')\n",
    "\n",
    "pred_values = reg.predict(data[['hours_sum', 'sickleave_days']])\n",
    "print(f'Error: {mean_absolute_error(pred_values, y)}')"
   ]
  },
  {
   "cell_type": "markdown",
   "metadata": {},
   "source": [
    "Предположение было верным, ошибка стремиться к 0, значит, модель точно предсказывает зарплату сотрудника исходя из имеющихся данных."
   ]
  }
 ],
 "metadata": {
  "kernelspec": {
   "display_name": "Python 3",
   "language": "python",
   "name": "python3"
  },
  "language_info": {
   "codemirror_mode": {
    "name": "ipython",
    "version": 3
   },
   "file_extension": ".py",
   "mimetype": "text/x-python",
   "name": "python",
   "nbconvert_exporter": "python",
   "pygments_lexer": "ipython3",
   "version": "3.7.3"
  }
 },
 "nbformat": 4,
 "nbformat_minor": 2
}
